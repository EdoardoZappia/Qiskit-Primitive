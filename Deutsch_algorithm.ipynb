{
  "nbformat": 4,
  "nbformat_minor": 0,
  "metadata": {
    "colab": {
      "provenance": []
    },
    "kernelspec": {
      "name": "python3",
      "display_name": "Python 3"
    },
    "language_info": {
      "name": "python"
    }
  },
  "cells": [
    {
      "cell_type": "markdown",
      "source": [
        "## Deutsch algorithm ##\n",
        "\n",
        "The Deutsch algorithm addresses a problem that has no practical utility but effectively demonstrates the speedup achievable through quantum computation. The problem involves determining whether a function that maps one bit to another bit is constant or balanced.\n",
        "\\\n",
        "Balanced:\n",
        "$$f_1=\\left \\{ \\begin{array}{rl}\n",
        "0 \\to 0\\\\\n",
        "1 \\to 1\n",
        "\\end{array}\n",
        "\\right. \\quad\n",
        "f_2=\\left \\{ \\begin{array}{rl}\n",
        "0 \\to 1\\\\\n",
        "1 \\to 0\n",
        "\\end{array}\n",
        "\\right. $$\n",
        "Constant:\n",
        "$$\n",
        "f_3=\\left \\{ \\begin{array}{rl}\n",
        "0 \\to 0\\\\\n",
        "1 \\to 0\n",
        "\\end{array}\n",
        "\\right. \\quad\n",
        "f_4=\\left \\{ \\begin{array}{rl}\n",
        "0 \\to 1\\\\\n",
        "1 \\to 1\n",
        "\\end{array}\n",
        "\\right. $$\n",
        "Let us imagine there is an oracle that implements the function. Classically, we need to query it at least twice to determine whether the function is balanced or constant, whereas quantumly, a single query suffices. In general (according to the Deutsch-Jozsa algorithm), classically, in the worst case, $\\frac{n}{2} + 1$ queries are required, whereas quantumly, only one query is necessary.\n",
        "\\\n",
        "The algorithm involves applying various transformations to the initial state ($|x\\rangle|y\\rangle=|0\\rangle |0\\rangle$), applying the oracle, further transformations, and then measuring the qubits. If the first qubit is in the state $|0\\rangle$ after measurement, the function is constant; if it is measured in the state $|1\\rangle$, the function is balanced (we will see why).\n",
        "\\\n",
        "The expression in braket notation for the application of the oracle is $|x,y\\rangle \\to |x,y \\oplus f(x)\\rangle $.\n",
        "We can consider $y$ as an ancillary qubit for the computation; we are interested in $ x $ and $ f(x) $. Thus, by assigning $ y = 0 $, we obtain the state $ |x,f(x)\\rangle $.\\\n",
        "To clarify further, let us consider some examples:\n",
        "$$\n",
        "|0,0\\rangle\\to|0,0\\oplus f(0)\\rangle\\to|0,f(0)\\rangle\n",
        "$$\n",
        "$$\n",
        "|1,0\\rangle\\to|1,0\\oplus f(1)\\rangle\\to|1,f(1)\\rangle\n",
        "$$\n",
        "Where $\\oplus$ is the sum mod 2.\n",
        "\n"
      ],
      "metadata": {
        "id": "hWjznszDyQif"
      }
    },
    {
      "cell_type": "markdown",
      "source": [
        "We will implement all function cases in qiskit"
      ],
      "metadata": {
        "id": "xoeXZb1feXeh"
      }
    },
    {
      "cell_type": "code",
      "execution_count": 1,
      "metadata": {
        "id": "thLrpindyLIS"
      },
      "outputs": [],
      "source": [
        "#!pip install qiskit==0.42.0"
      ]
    },
    {
      "cell_type": "code",
      "source": [
        "#!pip install pylatexenc"
      ],
      "metadata": {
        "id": "wfbvBldIdToW"
      },
      "execution_count": 2,
      "outputs": []
    },
    {
      "cell_type": "code",
      "source": [
        "from qiskit import QuantumCircuit, QuantumRegister, ClassicalRegister, execute\n",
        "import numpy as np\n",
        "import qiskit.quantum_info as qi\n",
        "import qiskit\n",
        "from qiskit import Aer\n",
        "from qiskit.tools.jupyter import *\n",
        "from qiskit.visualization import *\n",
        "from qiskit.visualization.circuit import *\n",
        "from qiskit import transpile, assemble\n",
        "import matplotlib.pyplot as plt\n",
        "from qiskit.circuit import Parameter"
      ],
      "metadata": {
        "id": "aV5ihI-Wdip0"
      },
      "execution_count": 3,
      "outputs": []
    },
    {
      "cell_type": "code",
      "source": [
        "# Supress warnings\n",
        "import warnings\n",
        "warnings.filterwarnings(\"ignore\")"
      ],
      "metadata": {
        "id": "eMUwcO76dlJl"
      },
      "execution_count": 4,
      "outputs": []
    },
    {
      "cell_type": "markdown",
      "source": [
        "##Constant 0"
      ],
      "metadata": {
        "id": "q0mWB_Ome2sa"
      }
    },
    {
      "cell_type": "code",
      "source": [
        "qr = QuantumRegister(2)\n",
        "cr = ClassicalRegister(1)\n",
        "\n",
        "circuit_const_0 = QuantumCircuit(qr,cr)\n",
        "\n",
        "circuit_const_0.h(0)\n",
        "circuit_const_0.x(1)\n",
        "circuit_const_0.h(1)\n",
        "# if we apply the idenity operator we will have always 0 as result\n",
        "circuit_const_0.h(0)\n",
        "\n",
        "circuit_const_0.draw(output='mpl')"
      ],
      "metadata": {
        "colab": {
          "base_uri": "https://localhost:8080/",
          "height": 276
        },
        "id": "u_8HwBEWdlxg",
        "outputId": "43656497-bc92-4f2c-8f5b-c54c9ef87629"
      },
      "execution_count": 5,
      "outputs": [
        {
          "output_type": "execute_result",
          "data": {
            "text/plain": [
              "<Figure size 305.323x284.278 with 1 Axes>"
            ],
            "image/png": "[encoded data removed]"
          },
          "metadata": {},
          "execution_count": 5
        }
      ]
    },
    {
      "cell_type": "code",
      "source": [
        "# Load statevector simulator\n",
        "simulator = Aer.get_backend(\"statevector_simulator\")"
      ],
      "metadata": {
        "id": "q9G8sbVLgBRo"
      },
      "execution_count": 6,
      "outputs": []
    },
    {
      "cell_type": "code",
      "source": [
        "# Create quatum job to execute\n",
        "job = simulator.run(circuit_const_0)\n",
        "\n",
        "# Execute the job\n",
        "result = job.result()\n",
        "\n",
        "state_ex=result.get_statevector(circuit_const_0)"
      ],
      "metadata": {
        "id": "VCuCmMqjgF14"
      },
      "execution_count": 7,
      "outputs": []
    },
    {
      "cell_type": "code",
      "source": [
        "state_ex.draw(output='latex') # Qubits are swapped in Qiskit"
      ],
      "metadata": {
        "colab": {
          "base_uri": "https://localhost:8080/",
          "height": 61
        },
        "id": "-_fxKE9PgLwN",
        "outputId": "2c9f7d1c-f4f7-427f-c3e3-92dcb99919ea"
      },
      "execution_count": 8,
      "outputs": [
        {
          "output_type": "execute_result",
          "data": {
            "text/plain": [
              "<IPython.core.display.Latex object>"
            ],
            "text/latex": "$$\\frac{\\sqrt{2}}{2} |00\\rangle- \\frac{\\sqrt{2}}{2} |10\\rangle$$"
          },
          "metadata": {},
          "execution_count": 8
        }
      ]
    },
    {
      "cell_type": "code",
      "source": [
        "circuit_const_0.measure(0,0)\n",
        "circuit_const_0.draw(output='mpl')"
      ],
      "metadata": {
        "colab": {
          "base_uri": "https://localhost:8080/",
          "height": 276
        },
        "id": "djRKhO9dhy5p",
        "outputId": "cf8e921a-12f4-4a86-a606-02dd732fc614"
      },
      "execution_count": 9,
      "outputs": [
        {
          "output_type": "execute_result",
          "data": {
            "text/plain": [
              "<Figure size 388.934x284.278 with 1 Axes>"
            ],
            "image/png": "[encoded data removed]"
          },
          "metadata": {},
          "execution_count": 9
        }
      ]
    },
    {
      "cell_type": "code",
      "source": [
        "backend = Aer.get_backend(\"qasm_simulator\")\n",
        "shots = 1024 #1024 is the standard number of shots\n",
        "job = execute(circuit_const_0, backend, shots = shots)\n",
        "result = job.result()"
      ],
      "metadata": {
        "id": "yx4lCtDqiIGJ"
      },
      "execution_count": 10,
      "outputs": []
    },
    {
      "cell_type": "code",
      "source": [
        "counts = result.get_counts()\n",
        "plot_histogram(counts)"
      ],
      "metadata": {
        "colab": {
          "base_uri": "https://localhost:8080/",
          "height": 470
        },
        "id": "kdIx5uzfivdE",
        "outputId": "8e7442e2-873e-4ea9-aa33-89b21181ffc4"
      },
      "execution_count": 11,
      "outputs": [
        {
          "output_type": "execute_result",
          "data": {
            "text/plain": [
              "<Figure size 700x500 with 1 Axes>"
            ],
            "image/png": "[encoded data removed]"
          },
          "metadata": {},
          "execution_count": 11
        }
      ]
    },
    {
      "cell_type": "markdown",
      "source": [
        "As we said previously, measuring 0 means that the function is constant"
      ],
      "metadata": {
        "id": "kKpZxoj3q_Mq"
      }
    },
    {
      "cell_type": "markdown",
      "source": [
        "## Constant 1"
      ],
      "metadata": {
        "id": "-sIiFortjWak"
      }
    },
    {
      "cell_type": "code",
      "source": [
        "qr = QuantumRegister(2)\n",
        "cr = ClassicalRegister(1)\n",
        "\n",
        "circuit_const_1 = QuantumCircuit(qr,cr)\n",
        "\n",
        "circuit_const_1.h(0)\n",
        "circuit_const_1.x(1)\n",
        "circuit_const_1.h(1)\n",
        "\n",
        "circuit_const_1.barrier()\n",
        "# if we apply the NOT gate to teh second qubit we will always have 1 as result\n",
        "circuit_const_1.x(1)\n",
        "circuit_const_1.barrier()\n",
        "\n",
        "circuit_const_1.h(0)\n",
        "\n",
        "circuit_const_1.draw(output='mpl')"
      ],
      "metadata": {
        "colab": {
          "base_uri": "https://localhost:8080/",
          "height": 276
        },
        "id": "OZRha8_ei1ny",
        "outputId": "f6290c96-8978-40db-88c4-6e7b6acc4f28"
      },
      "execution_count": 12,
      "outputs": [
        {
          "output_type": "execute_result",
          "data": {
            "text/plain": [
              "<Figure size 640.171x284.278 with 1 Axes>"
            ],
            "image/png": "[encoded data removed]"
          },
          "metadata": {},
          "execution_count": 12
        }
      ]
    },
    {
      "cell_type": "code",
      "source": [
        "# Create quatum job to execute\n",
        "job = simulator.run(circuit_const_1)\n",
        "\n",
        "# Execute the job\n",
        "result = job.result()\n",
        "\n",
        "state_ex=result.get_statevector(circuit_const_1)"
      ],
      "metadata": {
        "id": "M6pLh6fEjT6O"
      },
      "execution_count": 13,
      "outputs": []
    },
    {
      "cell_type": "code",
      "source": [
        "state_ex.draw(output='latex') # Qubits are swapped in Qiskit"
      ],
      "metadata": {
        "colab": {
          "base_uri": "https://localhost:8080/",
          "height": 61
        },
        "id": "pkajj5qYjk2i",
        "outputId": "1354c5db-2b7a-462b-b486-e821097f5840"
      },
      "execution_count": 14,
      "outputs": [
        {
          "output_type": "execute_result",
          "data": {
            "text/plain": [
              "<IPython.core.display.Latex object>"
            ],
            "text/latex": "$$- \\frac{\\sqrt{2}}{2} |00\\rangle+\\frac{\\sqrt{2}}{2} |10\\rangle$$"
          },
          "metadata": {},
          "execution_count": 14
        }
      ]
    },
    {
      "cell_type": "code",
      "source": [
        "circuit_const_1.measure(0,0)\n",
        "circuit_const_1.draw(output='mpl')"
      ],
      "metadata": {
        "colab": {
          "base_uri": "https://localhost:8080/",
          "height": 276
        },
        "id": "KTPleYIwlDyb",
        "outputId": "4c080d61-65a3-4ed3-9543-a7e0978d97e9"
      },
      "execution_count": 15,
      "outputs": [
        {
          "output_type": "execute_result",
          "data": {
            "text/plain": [
              "<Figure size 723.783x284.278 with 1 Axes>"
            ],
            "image/png": "[encoded data removed]"
          },
          "metadata": {},
          "execution_count": 15
        }
      ]
    },
    {
      "cell_type": "code",
      "source": [
        "backend = Aer.get_backend(\"qasm_simulator\")\n",
        "shots = 1024 #1024 is the standard number of shots\n",
        "job = execute(circuit_const_1, backend, shots = shots)\n",
        "result = job.result()"
      ],
      "metadata": {
        "id": "DKwLlGcslG0h"
      },
      "execution_count": 16,
      "outputs": []
    },
    {
      "cell_type": "code",
      "source": [
        "counts = result.get_counts()\n",
        "plot_histogram(counts)"
      ],
      "metadata": {
        "colab": {
          "base_uri": "https://localhost:8080/",
          "height": 470
        },
        "id": "H95yZKhCldm-",
        "outputId": "78c46b3f-3c3d-4a91-bfd6-ba5c83c3d60e"
      },
      "execution_count": 17,
      "outputs": [
        {
          "output_type": "execute_result",
          "data": {
            "text/plain": [
              "<Figure size 700x500 with 1 Axes>"
            ],
            "image/png": "[encoded data removed]"
          },
          "metadata": {},
          "execution_count": 17
        }
      ]
    },
    {
      "cell_type": "markdown",
      "source": [
        "As we said previously, measuring 0 means that the function is constant"
      ],
      "metadata": {
        "id": "-K8Z25Z3rIRu"
      }
    },
    {
      "cell_type": "markdown",
      "source": [
        "## Balanced"
      ],
      "metadata": {
        "id": "NSxdlABOrgWJ"
      }
    },
    {
      "cell_type": "code",
      "source": [
        "qr = QuantumRegister(2)\n",
        "cr = ClassicalRegister(1)\n",
        "\n",
        "circuit_balanced = QuantumCircuit(qr,cr)\n",
        "\n",
        "circuit_balanced.h(0)\n",
        "circuit_balanced.x(1)\n",
        "circuit_balanced.h(1)\n",
        "\n",
        "circuit_balanced.barrier()\n",
        "# f returns always 0\n",
        "circuit_balanced.cx(0,1)\n",
        "circuit_balanced.barrier()\n",
        "\n",
        "circuit_balanced.h(0)\n",
        "\n",
        "circuit_balanced.draw(output='mpl')"
      ],
      "metadata": {
        "colab": {
          "base_uri": "https://localhost:8080/",
          "height": 276
        },
        "id": "R0GWn25_lhs0",
        "outputId": "20d69672-ebc8-4f0d-dde8-22ab976b9389"
      },
      "execution_count": 18,
      "outputs": [
        {
          "output_type": "execute_result",
          "data": {
            "text/plain": [
              "<Figure size 640.171x284.278 with 1 Axes>"
            ],
            "image/png": "[encoded data removed]"
          },
          "metadata": {},
          "execution_count": 18
        }
      ]
    },
    {
      "cell_type": "code",
      "source": [
        "# Create quatum job to execute\n",
        "job = simulator.run(circuit_balanced)\n",
        "\n",
        "# Execute the job\n",
        "result = job.result()\n",
        "\n",
        "state_ex=result.get_statevector(circuit_balanced)"
      ],
      "metadata": {
        "id": "wHQnIw8jsN2K"
      },
      "execution_count": 19,
      "outputs": []
    },
    {
      "cell_type": "code",
      "source": [
        "state_ex.draw(output='latex') # Qubits are swapped in Qiskit"
      ],
      "metadata": {
        "colab": {
          "base_uri": "https://localhost:8080/",
          "height": 61
        },
        "id": "O631PdRmsR2u",
        "outputId": "5bd8db23-cc97-40f5-c250-962097d9492e"
      },
      "execution_count": 20,
      "outputs": [
        {
          "output_type": "execute_result",
          "data": {
            "text/plain": [
              "<IPython.core.display.Latex object>"
            ],
            "text/latex": "$$\\frac{\\sqrt{2}}{2} |01\\rangle- \\frac{\\sqrt{2}}{2} |11\\rangle$$"
          },
          "metadata": {},
          "execution_count": 20
        }
      ]
    },
    {
      "cell_type": "code",
      "source": [
        "circuit_balanced.measure(0,0)\n",
        "circuit_balanced.draw(output='mpl')"
      ],
      "metadata": {
        "colab": {
          "base_uri": "https://localhost:8080/",
          "height": 276
        },
        "id": "ZPd2foBQsV1p",
        "outputId": "67bc2f6d-2b0d-4975-a467-fd677c393972"
      },
      "execution_count": 21,
      "outputs": [
        {
          "output_type": "execute_result",
          "data": {
            "text/plain": [
              "<Figure size 723.783x284.278 with 1 Axes>"
            ],
            "image/png": "[encoded data removed]"
          },
          "metadata": {},
          "execution_count": 21
        }
      ]
    },
    {
      "cell_type": "code",
      "source": [
        "backend = Aer.get_backend(\"qasm_simulator\")\n",
        "shots = 1024 #1024 is the standard number of shots\n",
        "job = execute(circuit_balanced, backend, shots = shots)\n",
        "result = job.result()"
      ],
      "metadata": {
        "id": "iFgg06hisbgi"
      },
      "execution_count": 22,
      "outputs": []
    },
    {
      "cell_type": "code",
      "source": [
        "counts = result.get_counts()\n",
        "plot_histogram(counts)"
      ],
      "metadata": {
        "colab": {
          "base_uri": "https://localhost:8080/",
          "height": 470
        },
        "id": "u_VWcKSnsf_l",
        "outputId": "a8a3b68c-deff-4bf0-96cb-71f3e9b526e2"
      },
      "execution_count": 23,
      "outputs": [
        {
          "output_type": "execute_result",
          "data": {
            "text/plain": [
              "<Figure size 700x500 with 1 Axes>"
            ],
            "image/png": "[encoded data removed]"
          },
          "metadata": {},
          "execution_count": 23
        }
      ]
    },
    {
      "cell_type": "markdown",
      "source": [
        "As we said previously, measuring 1 means that the function is balanced"
      ],
      "metadata": {
        "id": "lLZfUBURsuvZ"
      }
    },
    {
      "cell_type": "markdown",
      "source": [
        "Let's analize what happens in the algorithm:\n",
        "$$\n",
        "|0\\rangle|0\\rangle \\to |0\\rangle|1\\rangle \\to \\frac{1}{\\sqrt{2}}(|0\\rangle+|1\\rangle)\\frac{1}{\\sqrt{2}}(|0\\rangle-|1\\rangle)=\\frac{1}{2}(|0\\rangle|0\\rangle-|0\\rangle|1\\rangle+|1\\rangle|0\\rangle-|1\\rangle|1\\rangle)\n",
        "$$\n",
        "$$\n",
        "\\to (oracle) \\to \\frac{1}{2}(|0\\rangle|f(0)\\rangle-|0\\rangle|\\overline{f(0)}+|1\\rangle|f(1)\\rangle-|1\\rangle|\\overline{f(1)}\\rangle)\n",
        "$$\n",
        "$$\n",
        "\\to \\frac{1}{2\\sqrt{2}}[(|0\\rangle+|1\\rangle)(|f(0)\\rangle-|\\overline{f(0)})+(|0\\rangle-|1\\rangle)(|f(1)\\rangle-|\\overline{f(1)})]\n",
        "$$\n",
        "$$\n",
        "=\\left \\{ \\begin{array}{rl}\n",
        "|0\\rangle \\frac{|f(0)\\rangle-|\\overline f(0)\\rangle}{\\sqrt{2}} \\to \\text{if f is constant}\\\\\n",
        "|1\\rangle \\frac{|f(0)\\rangle-|\\overline f(0)\\rangle}{\\sqrt{2}} \\to \\text{if f is balanced}\n",
        "\\end{array}\n",
        "\\right.\n",
        "$$"
      ],
      "metadata": {
        "id": "jexfIavgsyZJ"
      }
    }
  ]
}